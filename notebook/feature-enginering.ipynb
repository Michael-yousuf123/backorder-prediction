{
 "cells": [
  {
   "cell_type": "markdown",
   "metadata": {},
   "source": [
    "### Data Pre-Processing     \n",
    "*   Data Cleaning       \n",
    "*   Train-test Split    \n",
    "*   Transformation Pipelines"
   ]
  },
  {
   "cell_type": "markdown",
   "metadata": {},
   "source": [
    "### dummy variables\n",
    "### treat missing values\n",
    "### transforming data by log 10\n",
    "### feature selection\n",
    "### remove outliers\n",
    "### robust scaler\n",
    "### saving our dataset to pickle"
   ]
  },
  {
   "cell_type": "markdown",
   "metadata": {},
   "source": []
  }
 ],
 "metadata": {
  "language_info": {
   "name": "python"
  },
  "orig_nbformat": 4
 },
 "nbformat": 4,
 "nbformat_minor": 2
}
