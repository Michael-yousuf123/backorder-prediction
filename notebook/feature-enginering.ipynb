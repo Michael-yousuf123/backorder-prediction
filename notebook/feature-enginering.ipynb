{
 "cells": [
  {
   "cell_type": "markdown",
   "metadata": {},
   "source": [
    "### Data Pre-Processing     \n",
    "*   Data Cleaning       \n",
    "*   Train-test Split    \n",
    "*   Transformation Pipelines"
   ]
  }
 ],
 "metadata": {
  "language_info": {
   "name": "python"
  },
  "orig_nbformat": 4
 },
 "nbformat": 4,
 "nbformat_minor": 2
}
