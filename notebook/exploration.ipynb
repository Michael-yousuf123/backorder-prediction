{
 "cells": [
  {
   "cell_type": "markdown",
   "metadata": {},
   "source": [
    "### Problem Statement   \n",
    "*   How to better stock the items they sell"
   ]
  },
  {
   "cell_type": "markdown",
   "metadata": {},
   "source": [
    "### Performance Measure\n",
    "The evaluation metric for this Project is AUC (area under the curve). The AUC (Area Under Curve) is the area enclosed by the ROC curve. A perfect classifier has AUC = 1 and a completely random classifier has AUC = 0.5. Hence, this classification project will be evaluated as a good predictive if the AUC will be closer to 1."
   ]
  },
  {
   "cell_type": "markdown",
   "metadata": {},
   "source": [
    "### Data description\n",
    "sku -sku code   \n",
    "national_inv- Current inventory level of component  \n",
    "lead_time -Transit time     \n",
    "in_transit_qtry - Quantity in transit   \n",
    "forecast_x_month - Forecast sales for the net 3, 6, 9 months    \n",
    "sales_x_month - Sales quantity for the prior 1, 3, 6, 9 months      \n",
    "min_bank - Minimum recommended amount in stock      \n",
    "potential_issue - Indictor variable noting potential issue with item    \n",
    "pieces_past_due - Parts overdue from source     \n",
    "perf_x_months_avg - Source performance in the last 6 and 12 months      \n",
    "local_bo_qty - Amount of stock orders overdue       \n",
    "X17-X22 - General Risk Flags    \n",
    "went_on_back_order - Product went on backorder      \n",
    "Validation - indicator variable for training (0), validation (1), and test set (2)"
   ]
  },
  {
   "cell_type": "code",
   "execution_count": 1,
   "metadata": {},
   "outputs": [],
   "source": [
    "import numpy as np \n",
    "import pandas as pd \n",
    "import seaborn as sns\n",
    "sns.set(style=\"darkgrid\", font_scale=1.2)"
   ]
  },
  {
   "cell_type": "code",
   "execution_count": 2,
   "metadata": {},
   "outputs": [
    {
     "name": "stderr",
     "output_type": "stream",
     "text": [
      "/tmp/ipykernel_30439/791597961.py:1: DtypeWarning: Columns (0) have mixed types. Specify dtype option on import or set low_memory=False.\n",
      "  data = pd.read_csv(\"/home/miki/Desktop/Docker/iNeuron/backorder-prediction/dataset/Kaggle_Training_Dataset_v2.csv\")\n"
     ]
    }
   ],
   "source": [
    "data = pd.read_csv(\"/home/miki/Desktop/Docker/iNeuron/backorder-prediction/dataset/Kaggle_Training_Dataset_v2.csv\")"
   ]
  },
  {
   "cell_type": "code",
   "execution_count": null,
   "metadata": {},
   "outputs": [],
   "source": []
  },
  {
   "cell_type": "markdown",
   "metadata": {},
   "source": [
    " "
   ]
  }
 ],
 "metadata": {
  "kernelspec": {
   "display_name": "Python 3.8.1 ('order': venv)",
   "language": "python",
   "name": "python3"
  },
  "language_info": {
   "codemirror_mode": {
    "name": "ipython",
    "version": 3
   },
   "file_extension": ".py",
   "mimetype": "text/x-python",
   "name": "python",
   "nbconvert_exporter": "python",
   "pygments_lexer": "ipython3",
   "version": "3.8.1"
  },
  "orig_nbformat": 4,
  "vscode": {
   "interpreter": {
    "hash": "4312cde478a2aef4ae2e7b175008e7fcfd82e62d626fb99cba78605848ce4a43"
   }
  }
 },
 "nbformat": 4,
 "nbformat_minor": 2
}
