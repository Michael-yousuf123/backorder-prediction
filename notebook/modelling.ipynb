{
 "cells": [
  {
   "cell_type": "markdown",
   "metadata": {},
   "source": [
    "6. Modeling\n",
    "6.1. Training on train split\n",
    "6.2. Cross-validation\n",
    "7. Fine-tuning\n",
    "7.1. Hypeparametrization\n",
    "7.2. Evaluate on test set\n",
    "8. Deployment"
   ]
  },
  {
   "cell_type": "code",
   "execution_count": null,
   "metadata": {},
   "outputs": [],
   "source": []
  }
 ],
 "metadata": {
  "language_info": {
   "name": "python"
  },
  "orig_nbformat": 4
 },
 "nbformat": 4,
 "nbformat_minor": 2
}
